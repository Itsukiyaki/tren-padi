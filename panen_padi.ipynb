{
 "cells": [
  {
   "cell_type": "markdown",
   "id": "3382196d",
   "metadata": {},
   "source": [
    "#### Library"
   ]
  },
  {
   "cell_type": "code",
   "execution_count": 1,
   "id": "956f9290",
   "metadata": {},
   "outputs": [],
   "source": [
    "import pandas as pd\n",
    "import scipy.stats as stats\n",
    "import seaborn as sns\n",
    "import matplotlib.pyplot as plt"
   ]
  },
  {
   "cell_type": "markdown",
   "id": "a3e47470",
   "metadata": {},
   "source": [
    "#### Data Loading"
   ]
  },
  {
   "cell_type": "code",
   "execution_count": 2,
   "id": "a8c7ee2d",
   "metadata": {},
   "outputs": [
    {
     "data": {
      "application/vnd.microsoft.datawrangler.viewer.v0+json": {
       "columns": [
        {
         "name": "index",
         "rawType": "int64",
         "type": "integer"
        },
        {
         "name": "Provinsi",
         "rawType": "object",
         "type": "string"
        },
        {
         "name": "Tahun",
         "rawType": "int64",
         "type": "integer"
        },
        {
         "name": "Luas Panen (ha)",
         "rawType": "object",
         "type": "unknown"
        },
        {
         "name": "Produktivitas (ku/ha)",
         "rawType": "object",
         "type": "unknown"
        },
        {
         "name": "Produksi (ton)",
         "rawType": "object",
         "type": "unknown"
        }
       ],
       "ref": "567bf368-fa35-401f-ac42-a75a7b53a046",
       "rows": [
        [
         "0",
         "ACEH",
         "2018",
         "329515.78",
         "56.49",
         "1861567.1"
        ],
        [
         "1",
         "ACEH",
         "2019",
         "310012.46",
         "55.3",
         "1714437.6"
        ],
        [
         "2",
         "ACEH",
         "2020",
         "317869.41",
         "55.28",
         "1757313.07"
        ],
        [
         "3",
         "ACEH",
         "2021",
         "297058.38",
         "55.03",
         "1634639.6"
        ],
        [
         "4",
         "ACEH",
         "2022",
         "271750.2",
         "55.55",
         "1509456"
        ],
        [
         "5",
         "ACEH",
         "2023",
         "254287.38",
         "55.22",
         "1404234.82"
        ],
        [
         "6",
         "ACEH",
         "2024",
         "301196.35",
         "55.11",
         "1659966.28"
        ],
        [
         "7",
         "SUMATERA UTARA",
         "2018",
         "408176.45",
         "51.65",
         "2108284.72"
        ],
        [
         "8",
         "SUMATERA UTARA",
         "2019",
         "413141.24",
         "50.32",
         "2078901.59"
        ],
        [
         "9",
         "SUMATERA UTARA",
         "2020",
         "388591.22",
         "52.51",
         "2040500.19"
        ],
        [
         "10",
         "SUMATERA UTARA",
         "2021",
         "385405",
         "52",
         "2004142.51"
        ],
        [
         "11",
         "SUMATERA UTARA",
         "2022",
         "411462.1",
         "50.76",
         "2088584"
        ],
        [
         "12",
         "SUMATERA UTARA",
         "2023",
         "406109.49",
         "51.4",
         "2087474.15"
        ],
        [
         "13",
         "SUMATERA UTARA",
         "2024",
         "419463.48",
         "52.56",
         "2204875.51"
        ],
        [
         "14",
         "SUMATERA BARAT",
         "2018",
         "313050.82",
         "47.37",
         "1483076.48"
        ],
        [
         "15",
         "SUMATERA BARAT",
         "2019",
         "311671.23",
         "47.58",
         "1482996.01"
        ],
        [
         "16",
         "SUMATERA BARAT",
         "2020",
         "295664.47",
         "46.92",
         "1387269.29"
        ],
        [
         "17",
         "SUMATERA BARAT",
         "2021",
         "272391.95",
         "48.36",
         "1317209.38"
        ],
        [
         "18",
         "SUMATERA BARAT",
         "2022",
         "271883.1",
         "50.52",
         "1373532"
        ],
        [
         "19",
         "SUMATERA BARAT",
         "2023",
         "300564.77",
         "49.32",
         "1482468.79"
        ],
        [
         "20",
         "SUMATERA BARAT",
         "2024",
         "295278.98",
         "45.94",
         "1356467.93"
        ],
        [
         "21",
         "RIAU",
         "2018",
         "71448.08",
         "37.28",
         "266375.53"
        ],
        [
         "22",
         "RIAU",
         "2019",
         "63142.04",
         "36.56",
         "230873.97"
        ],
        [
         "23",
         "RIAU",
         "2020",
         "64733.13",
         "37.64",
         "243685.04"
        ],
        [
         "24",
         "RIAU",
         "2021",
         "53062.35",
         "40.98",
         "217458.87"
        ],
        [
         "25",
         "RIAU",
         "2022",
         "51054.04",
         "41.83",
         "213557.2"
        ],
        [
         "26",
         "RIAU",
         "2023",
         "51914.14",
         "39.68",
         "205972.55"
        ],
        [
         "27",
         "RIAU",
         "2024",
         "56421.96",
         "39.36",
         "222055.71"
        ],
        [
         "28",
         "JAMBI",
         "2018",
         "86202.68",
         "44.44",
         "383045.74"
        ],
        [
         "29",
         "JAMBI",
         "2019",
         "69536.06",
         "44.57",
         "309932.68"
        ],
        [
         "30",
         "JAMBI",
         "2020",
         "84772.93",
         "45.58",
         "386413.49"
        ],
        [
         "31",
         "JAMBI",
         "2021",
         "64412.26",
         "46.29",
         "298149.25"
        ],
        [
         "32",
         "JAMBI",
         "2022",
         "60539.59",
         "45.88",
         "277743.8"
        ],
        [
         "33",
         "JAMBI",
         "2023",
         "61236.64",
         "45.06",
         "275941.45"
        ],
        [
         "34",
         "JAMBI",
         "2024",
         "61625.68",
         "45.6",
         "281022.05"
        ],
        [
         "35",
         "SUMATERA SELATAN",
         "2018",
         "581574.61",
         "51.48",
         "2994191.84"
        ],
        [
         "36",
         "SUMATERA SELATAN",
         "2019",
         "539316.52",
         "48.27",
         "2603396.24"
        ],
        [
         "37",
         "SUMATERA SELATAN",
         "2020",
         "551320.76",
         "49.75",
         "2743059.68"
        ],
        [
         "38",
         "SUMATERA SELATAN",
         "2021",
         "496241.65",
         "51.44",
         "2552443.19"
        ],
        [
         "39",
         "SUMATERA SELATAN",
         "2022",
         "513378.2",
         "54.06",
         "2775069"
        ],
        [
         "40",
         "SUMATERA SELATAN",
         "2023",
         "504143.03",
         "56.19",
         "2832773.92"
        ],
        [
         "41",
         "SUMATERA SELATAN",
         "2024",
         "521092.21",
         "55.83",
         "2909411.67"
        ],
        [
         "42",
         "BENGKULU",
         "2018",
         "65891.16",
         "43.83",
         "288810.52"
        ],
        [
         "43",
         "BENGKULU",
         "2019",
         "64406.86",
         "46.03",
         "296472.07"
        ],
        [
         "44",
         "BENGKULU",
         "2020",
         "64137.28",
         "45.66",
         "292834.04"
        ],
        [
         "45",
         "BENGKULU",
         "2021",
         "55704.69",
         "48.67",
         "271117.19"
        ],
        [
         "46",
         "BENGKULU",
         "2022",
         "57151.84",
         "49.27",
         "281610.1"
        ],
        [
         "47",
         "BENGKULU",
         "2023",
         "57877.18",
         "49.53",
         "286684.43"
        ],
        [
         "48",
         "BENGKULU",
         "2024",
         "55775.09",
         "48.92",
         "272848.55"
        ],
        [
         "49",
         "LAMPUNG",
         "2018",
         "511940.93",
         "48.61",
         "2488641.91"
        ]
       ],
       "shape": {
        "columns": 5,
        "rows": 273
       }
      },
      "text/html": [
       "<div>\n",
       "<style scoped>\n",
       "    .dataframe tbody tr th:only-of-type {\n",
       "        vertical-align: middle;\n",
       "    }\n",
       "\n",
       "    .dataframe tbody tr th {\n",
       "        vertical-align: top;\n",
       "    }\n",
       "\n",
       "    .dataframe thead th {\n",
       "        text-align: right;\n",
       "    }\n",
       "</style>\n",
       "<table border=\"1\" class=\"dataframe\">\n",
       "  <thead>\n",
       "    <tr style=\"text-align: right;\">\n",
       "      <th></th>\n",
       "      <th>Provinsi</th>\n",
       "      <th>Tahun</th>\n",
       "      <th>Luas Panen (ha)</th>\n",
       "      <th>Produktivitas (ku/ha)</th>\n",
       "      <th>Produksi (ton)</th>\n",
       "    </tr>\n",
       "  </thead>\n",
       "  <tbody>\n",
       "    <tr>\n",
       "      <th>0</th>\n",
       "      <td>ACEH</td>\n",
       "      <td>2018</td>\n",
       "      <td>329515.78</td>\n",
       "      <td>56.49</td>\n",
       "      <td>1861567.1</td>\n",
       "    </tr>\n",
       "    <tr>\n",
       "      <th>1</th>\n",
       "      <td>ACEH</td>\n",
       "      <td>2019</td>\n",
       "      <td>310012.46</td>\n",
       "      <td>55.3</td>\n",
       "      <td>1714437.6</td>\n",
       "    </tr>\n",
       "    <tr>\n",
       "      <th>2</th>\n",
       "      <td>ACEH</td>\n",
       "      <td>2020</td>\n",
       "      <td>317869.41</td>\n",
       "      <td>55.28</td>\n",
       "      <td>1757313.07</td>\n",
       "    </tr>\n",
       "    <tr>\n",
       "      <th>3</th>\n",
       "      <td>ACEH</td>\n",
       "      <td>2021</td>\n",
       "      <td>297058.38</td>\n",
       "      <td>55.03</td>\n",
       "      <td>1634639.6</td>\n",
       "    </tr>\n",
       "    <tr>\n",
       "      <th>4</th>\n",
       "      <td>ACEH</td>\n",
       "      <td>2022</td>\n",
       "      <td>271750.2</td>\n",
       "      <td>55.55</td>\n",
       "      <td>1509456</td>\n",
       "    </tr>\n",
       "    <tr>\n",
       "      <th>...</th>\n",
       "      <td>...</td>\n",
       "      <td>...</td>\n",
       "      <td>...</td>\n",
       "      <td>...</td>\n",
       "      <td>...</td>\n",
       "    </tr>\n",
       "    <tr>\n",
       "      <th>268</th>\n",
       "      <td>INDONESIA</td>\n",
       "      <td>2020</td>\n",
       "      <td>10657274.96</td>\n",
       "      <td>51.28</td>\n",
       "      <td>54649202.24</td>\n",
       "    </tr>\n",
       "    <tr>\n",
       "      <th>269</th>\n",
       "      <td>INDONESIA</td>\n",
       "      <td>2021</td>\n",
       "      <td>10411801.22</td>\n",
       "      <td>52.26</td>\n",
       "      <td>54415294.22</td>\n",
       "    </tr>\n",
       "    <tr>\n",
       "      <th>270</th>\n",
       "      <td>INDONESIA</td>\n",
       "      <td>2022</td>\n",
       "      <td>10452672</td>\n",
       "      <td>52.38</td>\n",
       "      <td>54748977</td>\n",
       "    </tr>\n",
       "    <tr>\n",
       "      <th>271</th>\n",
       "      <td>INDONESIA</td>\n",
       "      <td>2023</td>\n",
       "      <td>10213705.17</td>\n",
       "      <td>52.85</td>\n",
       "      <td>53980993.19</td>\n",
       "    </tr>\n",
       "    <tr>\n",
       "      <th>272</th>\n",
       "      <td>INDONESIA</td>\n",
       "      <td>2024</td>\n",
       "      <td>10046135.36</td>\n",
       "      <td>52.9</td>\n",
       "      <td>53142726.65</td>\n",
       "    </tr>\n",
       "  </tbody>\n",
       "</table>\n",
       "<p>273 rows × 5 columns</p>\n",
       "</div>"
      ],
      "text/plain": [
       "      Provinsi  Tahun Luas Panen (ha) Produktivitas (ku/ha) Produksi (ton)\n",
       "0         ACEH   2018       329515.78                 56.49      1861567.1\n",
       "1         ACEH   2019       310012.46                  55.3      1714437.6\n",
       "2         ACEH   2020       317869.41                 55.28     1757313.07\n",
       "3         ACEH   2021       297058.38                 55.03      1634639.6\n",
       "4         ACEH   2022        271750.2                 55.55        1509456\n",
       "..         ...    ...             ...                   ...            ...\n",
       "268  INDONESIA   2020     10657274.96                 51.28    54649202.24\n",
       "269  INDONESIA   2021     10411801.22                 52.26    54415294.22\n",
       "270  INDONESIA   2022        10452672                 52.38       54748977\n",
       "271  INDONESIA   2023     10213705.17                 52.85    53980993.19\n",
       "272  INDONESIA   2024     10046135.36                  52.9    53142726.65\n",
       "\n",
       "[273 rows x 5 columns]"
      ]
     },
     "execution_count": 2,
     "metadata": {},
     "output_type": "execute_result"
    }
   ],
   "source": [
    "df_raw = pd.read_excel(\"Luas_Panen_Produksi_dan_Produktivitas_Padi_Menurut_Provinsi.xlsx\")\n",
    "df_raw"
   ]
  },
  {
   "cell_type": "code",
   "execution_count": 3,
   "id": "999696f8",
   "metadata": {},
   "outputs": [
    {
     "name": "stdout",
     "output_type": "stream",
     "text": [
      "<class 'pandas.core.frame.DataFrame'>\n",
      "RangeIndex: 273 entries, 0 to 272\n",
      "Data columns (total 5 columns):\n",
      " #   Column                 Non-Null Count  Dtype \n",
      "---  ------                 --------------  ----- \n",
      " 0   Provinsi               273 non-null    object\n",
      " 1   Tahun                  273 non-null    int64 \n",
      " 2   Luas Panen (ha)        273 non-null    object\n",
      " 3   Produktivitas (ku/ha)  273 non-null    object\n",
      " 4   Produksi (ton)         273 non-null    object\n",
      "dtypes: int64(1), object(4)\n",
      "memory usage: 10.8+ KB\n"
     ]
    }
   ],
   "source": [
    "df_raw.info()"
   ]
  },
  {
   "cell_type": "code",
   "execution_count": 4,
   "id": "06e2d5fd",
   "metadata": {},
   "outputs": [
    {
     "data": {
      "application/vnd.microsoft.datawrangler.viewer.v0+json": {
       "columns": [
        {
         "name": "index",
         "rawType": "object",
         "type": "string"
        },
        {
         "name": "0",
         "rawType": "int64",
         "type": "integer"
        }
       ],
       "ref": "b1f8b683-4fc8-43ef-9af8-a5523de73d82",
       "rows": [
        [
         "Provinsi",
         "0"
        ],
        [
         "Tahun",
         "0"
        ],
        [
         "Luas Panen (ha)",
         "0"
        ],
        [
         "Produktivitas (ku/ha)",
         "0"
        ],
        [
         "Produksi (ton)",
         "0"
        ]
       ],
       "shape": {
        "columns": 1,
        "rows": 5
       }
      },
      "text/plain": [
       "Provinsi                 0\n",
       "Tahun                    0\n",
       "Luas Panen (ha)          0\n",
       "Produktivitas (ku/ha)    0\n",
       "Produksi (ton)           0\n",
       "dtype: int64"
      ]
     },
     "execution_count": 4,
     "metadata": {},
     "output_type": "execute_result"
    }
   ],
   "source": [
    "df_raw.isna().sum()"
   ]
  },
  {
   "cell_type": "markdown",
   "id": "12ac839a",
   "metadata": {},
   "source": [
    "#### Data Cleaning"
   ]
  },
  {
   "cell_type": "code",
   "execution_count": 5,
   "id": "4059b5fe",
   "metadata": {},
   "outputs": [
    {
     "data": {
      "application/vnd.microsoft.datawrangler.viewer.v0+json": {
       "columns": [
        {
         "name": "index",
         "rawType": "int64",
         "type": "integer"
        },
        {
         "name": "Provinsi",
         "rawType": "object",
         "type": "string"
        },
        {
         "name": "Tahun",
         "rawType": "int64",
         "type": "integer"
        },
        {
         "name": "Luas Panen (ha)",
         "rawType": "object",
         "type": "unknown"
        },
        {
         "name": "Produktivitas (ku/ha)",
         "rawType": "object",
         "type": "unknown"
        },
        {
         "name": "Produksi (ton)",
         "rawType": "object",
         "type": "unknown"
        }
       ],
       "ref": "198a8431-d52c-4efb-8dfa-41283ccdeec3",
       "rows": [
        [
         "0",
         "ACEH",
         "2018",
         "329515.78",
         "56.49",
         "1861567.1"
        ],
        [
         "1",
         "ACEH",
         "2019",
         "310012.46",
         "55.3",
         "1714437.6"
        ],
        [
         "2",
         "ACEH",
         "2020",
         "317869.41",
         "55.28",
         "1757313.07"
        ],
        [
         "3",
         "ACEH",
         "2021",
         "297058.38",
         "55.03",
         "1634639.6"
        ],
        [
         "4",
         "ACEH",
         "2022",
         "271750.2",
         "55.55",
         "1509456"
        ],
        [
         "5",
         "ACEH",
         "2023",
         "254287.38",
         "55.22",
         "1404234.82"
        ],
        [
         "6",
         "ACEH",
         "2024",
         "301196.35",
         "55.11",
         "1659966.28"
        ],
        [
         "7",
         "SUMATERA UTARA",
         "2018",
         "408176.45",
         "51.65",
         "2108284.72"
        ],
        [
         "8",
         "SUMATERA UTARA",
         "2019",
         "413141.24",
         "50.32",
         "2078901.59"
        ],
        [
         "9",
         "SUMATERA UTARA",
         "2020",
         "388591.22",
         "52.51",
         "2040500.19"
        ],
        [
         "10",
         "SUMATERA UTARA",
         "2021",
         "385405",
         "52",
         "2004142.51"
        ],
        [
         "11",
         "SUMATERA UTARA",
         "2022",
         "411462.1",
         "50.76",
         "2088584"
        ],
        [
         "12",
         "SUMATERA UTARA",
         "2023",
         "406109.49",
         "51.4",
         "2087474.15"
        ],
        [
         "13",
         "SUMATERA UTARA",
         "2024",
         "419463.48",
         "52.56",
         "2204875.51"
        ],
        [
         "14",
         "SUMATERA BARAT",
         "2018",
         "313050.82",
         "47.37",
         "1483076.48"
        ],
        [
         "15",
         "SUMATERA BARAT",
         "2019",
         "311671.23",
         "47.58",
         "1482996.01"
        ],
        [
         "16",
         "SUMATERA BARAT",
         "2020",
         "295664.47",
         "46.92",
         "1387269.29"
        ],
        [
         "17",
         "SUMATERA BARAT",
         "2021",
         "272391.95",
         "48.36",
         "1317209.38"
        ],
        [
         "18",
         "SUMATERA BARAT",
         "2022",
         "271883.1",
         "50.52",
         "1373532"
        ],
        [
         "19",
         "SUMATERA BARAT",
         "2023",
         "300564.77",
         "49.32",
         "1482468.79"
        ],
        [
         "20",
         "SUMATERA BARAT",
         "2024",
         "295278.98",
         "45.94",
         "1356467.93"
        ],
        [
         "21",
         "RIAU",
         "2018",
         "71448.08",
         "37.28",
         "266375.53"
        ],
        [
         "22",
         "RIAU",
         "2019",
         "63142.04",
         "36.56",
         "230873.97"
        ],
        [
         "23",
         "RIAU",
         "2020",
         "64733.13",
         "37.64",
         "243685.04"
        ],
        [
         "24",
         "RIAU",
         "2021",
         "53062.35",
         "40.98",
         "217458.87"
        ],
        [
         "25",
         "RIAU",
         "2022",
         "51054.04",
         "41.83",
         "213557.2"
        ],
        [
         "26",
         "RIAU",
         "2023",
         "51914.14",
         "39.68",
         "205972.55"
        ],
        [
         "27",
         "RIAU",
         "2024",
         "56421.96",
         "39.36",
         "222055.71"
        ],
        [
         "28",
         "JAMBI",
         "2018",
         "86202.68",
         "44.44",
         "383045.74"
        ],
        [
         "29",
         "JAMBI",
         "2019",
         "69536.06",
         "44.57",
         "309932.68"
        ],
        [
         "30",
         "JAMBI",
         "2020",
         "84772.93",
         "45.58",
         "386413.49"
        ],
        [
         "31",
         "JAMBI",
         "2021",
         "64412.26",
         "46.29",
         "298149.25"
        ],
        [
         "32",
         "JAMBI",
         "2022",
         "60539.59",
         "45.88",
         "277743.8"
        ],
        [
         "33",
         "JAMBI",
         "2023",
         "61236.64",
         "45.06",
         "275941.45"
        ],
        [
         "34",
         "JAMBI",
         "2024",
         "61625.68",
         "45.6",
         "281022.05"
        ],
        [
         "35",
         "SUMATERA SELATAN",
         "2018",
         "581574.61",
         "51.48",
         "2994191.84"
        ],
        [
         "36",
         "SUMATERA SELATAN",
         "2019",
         "539316.52",
         "48.27",
         "2603396.24"
        ],
        [
         "37",
         "SUMATERA SELATAN",
         "2020",
         "551320.76",
         "49.75",
         "2743059.68"
        ],
        [
         "38",
         "SUMATERA SELATAN",
         "2021",
         "496241.65",
         "51.44",
         "2552443.19"
        ],
        [
         "39",
         "SUMATERA SELATAN",
         "2022",
         "513378.2",
         "54.06",
         "2775069"
        ],
        [
         "40",
         "SUMATERA SELATAN",
         "2023",
         "504143.03",
         "56.19",
         "2832773.92"
        ],
        [
         "41",
         "SUMATERA SELATAN",
         "2024",
         "521092.21",
         "55.83",
         "2909411.67"
        ],
        [
         "42",
         "BENGKULU",
         "2018",
         "65891.16",
         "43.83",
         "288810.52"
        ],
        [
         "43",
         "BENGKULU",
         "2019",
         "64406.86",
         "46.03",
         "296472.07"
        ],
        [
         "44",
         "BENGKULU",
         "2020",
         "64137.28",
         "45.66",
         "292834.04"
        ],
        [
         "45",
         "BENGKULU",
         "2021",
         "55704.69",
         "48.67",
         "271117.19"
        ],
        [
         "46",
         "BENGKULU",
         "2022",
         "57151.84",
         "49.27",
         "281610.1"
        ],
        [
         "47",
         "BENGKULU",
         "2023",
         "57877.18",
         "49.53",
         "286684.43"
        ],
        [
         "48",
         "BENGKULU",
         "2024",
         "55775.09",
         "48.92",
         "272848.55"
        ],
        [
         "49",
         "LAMPUNG",
         "2018",
         "511940.93",
         "48.61",
         "2488641.91"
        ]
       ],
       "shape": {
        "columns": 5,
        "rows": 273
       }
      },
      "text/html": [
       "<div>\n",
       "<style scoped>\n",
       "    .dataframe tbody tr th:only-of-type {\n",
       "        vertical-align: middle;\n",
       "    }\n",
       "\n",
       "    .dataframe tbody tr th {\n",
       "        vertical-align: top;\n",
       "    }\n",
       "\n",
       "    .dataframe thead th {\n",
       "        text-align: right;\n",
       "    }\n",
       "</style>\n",
       "<table border=\"1\" class=\"dataframe\">\n",
       "  <thead>\n",
       "    <tr style=\"text-align: right;\">\n",
       "      <th></th>\n",
       "      <th>Provinsi</th>\n",
       "      <th>Tahun</th>\n",
       "      <th>Luas Panen (ha)</th>\n",
       "      <th>Produktivitas (ku/ha)</th>\n",
       "      <th>Produksi (ton)</th>\n",
       "    </tr>\n",
       "  </thead>\n",
       "  <tbody>\n",
       "    <tr>\n",
       "      <th>0</th>\n",
       "      <td>ACEH</td>\n",
       "      <td>2018</td>\n",
       "      <td>329515.78</td>\n",
       "      <td>56.49</td>\n",
       "      <td>1861567.1</td>\n",
       "    </tr>\n",
       "    <tr>\n",
       "      <th>1</th>\n",
       "      <td>ACEH</td>\n",
       "      <td>2019</td>\n",
       "      <td>310012.46</td>\n",
       "      <td>55.3</td>\n",
       "      <td>1714437.6</td>\n",
       "    </tr>\n",
       "    <tr>\n",
       "      <th>2</th>\n",
       "      <td>ACEH</td>\n",
       "      <td>2020</td>\n",
       "      <td>317869.41</td>\n",
       "      <td>55.28</td>\n",
       "      <td>1757313.07</td>\n",
       "    </tr>\n",
       "    <tr>\n",
       "      <th>3</th>\n",
       "      <td>ACEH</td>\n",
       "      <td>2021</td>\n",
       "      <td>297058.38</td>\n",
       "      <td>55.03</td>\n",
       "      <td>1634639.6</td>\n",
       "    </tr>\n",
       "    <tr>\n",
       "      <th>4</th>\n",
       "      <td>ACEH</td>\n",
       "      <td>2022</td>\n",
       "      <td>271750.2</td>\n",
       "      <td>55.55</td>\n",
       "      <td>1509456</td>\n",
       "    </tr>\n",
       "    <tr>\n",
       "      <th>...</th>\n",
       "      <td>...</td>\n",
       "      <td>...</td>\n",
       "      <td>...</td>\n",
       "      <td>...</td>\n",
       "      <td>...</td>\n",
       "    </tr>\n",
       "    <tr>\n",
       "      <th>268</th>\n",
       "      <td>INDONESIA</td>\n",
       "      <td>2020</td>\n",
       "      <td>10657274.96</td>\n",
       "      <td>51.28</td>\n",
       "      <td>54649202.24</td>\n",
       "    </tr>\n",
       "    <tr>\n",
       "      <th>269</th>\n",
       "      <td>INDONESIA</td>\n",
       "      <td>2021</td>\n",
       "      <td>10411801.22</td>\n",
       "      <td>52.26</td>\n",
       "      <td>54415294.22</td>\n",
       "    </tr>\n",
       "    <tr>\n",
       "      <th>270</th>\n",
       "      <td>INDONESIA</td>\n",
       "      <td>2022</td>\n",
       "      <td>10452672</td>\n",
       "      <td>52.38</td>\n",
       "      <td>54748977</td>\n",
       "    </tr>\n",
       "    <tr>\n",
       "      <th>271</th>\n",
       "      <td>INDONESIA</td>\n",
       "      <td>2023</td>\n",
       "      <td>10213705.17</td>\n",
       "      <td>52.85</td>\n",
       "      <td>53980993.19</td>\n",
       "    </tr>\n",
       "    <tr>\n",
       "      <th>272</th>\n",
       "      <td>INDONESIA</td>\n",
       "      <td>2024</td>\n",
       "      <td>10046135.36</td>\n",
       "      <td>52.9</td>\n",
       "      <td>53142726.65</td>\n",
       "    </tr>\n",
       "  </tbody>\n",
       "</table>\n",
       "<p>273 rows × 5 columns</p>\n",
       "</div>"
      ],
      "text/plain": [
       "      Provinsi  Tahun Luas Panen (ha) Produktivitas (ku/ha) Produksi (ton)\n",
       "0         ACEH   2018       329515.78                 56.49      1861567.1\n",
       "1         ACEH   2019       310012.46                  55.3      1714437.6\n",
       "2         ACEH   2020       317869.41                 55.28     1757313.07\n",
       "3         ACEH   2021       297058.38                 55.03      1634639.6\n",
       "4         ACEH   2022        271750.2                 55.55        1509456\n",
       "..         ...    ...             ...                   ...            ...\n",
       "268  INDONESIA   2020     10657274.96                 51.28    54649202.24\n",
       "269  INDONESIA   2021     10411801.22                 52.26    54415294.22\n",
       "270  INDONESIA   2022        10452672                 52.38       54748977\n",
       "271  INDONESIA   2023     10213705.17                 52.85    53980993.19\n",
       "272  INDONESIA   2024     10046135.36                  52.9    53142726.65\n",
       "\n",
       "[273 rows x 5 columns]"
      ]
     },
     "execution_count": 5,
     "metadata": {},
     "output_type": "execute_result"
    }
   ],
   "source": [
    "df_raw = df_raw.replace(\"-\", \"0\")\n",
    "df_raw"
   ]
  },
  {
   "cell_type": "code",
   "execution_count": 6,
   "id": "b9a4d0f4",
   "metadata": {},
   "outputs": [
    {
     "name": "stderr",
     "output_type": "stream",
     "text": [
      "C:\\Users\\eldim\\AppData\\Local\\Temp\\ipykernel_6744\\4032122956.py:1: FutureWarning: errors='ignore' is deprecated and will raise in a future version. Use to_numeric without passing `errors` and catch exceptions explicitly instead\n",
      "  df_raw = df_raw.apply(pd.to_numeric, errors='ignore')\n"
     ]
    },
    {
     "data": {
      "application/vnd.microsoft.datawrangler.viewer.v0+json": {
       "columns": [
        {
         "name": "index",
         "rawType": "int64",
         "type": "integer"
        },
        {
         "name": "Provinsi",
         "rawType": "object",
         "type": "string"
        },
        {
         "name": "Tahun",
         "rawType": "int64",
         "type": "integer"
        },
        {
         "name": "Luas Panen (ha)",
         "rawType": "float64",
         "type": "float"
        },
        {
         "name": "Produktivitas (ku/ha)",
         "rawType": "float64",
         "type": "float"
        },
        {
         "name": "Produksi (ton)",
         "rawType": "float64",
         "type": "float"
        }
       ],
       "ref": "f15ffecf-387f-449a-a129-dd70109abef1",
       "rows": [
        [
         "0",
         "ACEH",
         "2018",
         "329515.78",
         "56.49",
         "1861567.1"
        ],
        [
         "1",
         "ACEH",
         "2019",
         "310012.46",
         "55.3",
         "1714437.6"
        ],
        [
         "2",
         "ACEH",
         "2020",
         "317869.41",
         "55.28",
         "1757313.07"
        ],
        [
         "3",
         "ACEH",
         "2021",
         "297058.38",
         "55.03",
         "1634639.6"
        ],
        [
         "4",
         "ACEH",
         "2022",
         "271750.2",
         "55.55",
         "1509456.0"
        ],
        [
         "5",
         "ACEH",
         "2023",
         "254287.38",
         "55.22",
         "1404234.82"
        ],
        [
         "6",
         "ACEH",
         "2024",
         "301196.35",
         "55.11",
         "1659966.28"
        ],
        [
         "7",
         "SUMATERA UTARA",
         "2018",
         "408176.45",
         "51.65",
         "2108284.72"
        ],
        [
         "8",
         "SUMATERA UTARA",
         "2019",
         "413141.24",
         "50.32",
         "2078901.59"
        ],
        [
         "9",
         "SUMATERA UTARA",
         "2020",
         "388591.22",
         "52.51",
         "2040500.19"
        ],
        [
         "10",
         "SUMATERA UTARA",
         "2021",
         "385405.0",
         "52.0",
         "2004142.51"
        ],
        [
         "11",
         "SUMATERA UTARA",
         "2022",
         "411462.1",
         "50.76",
         "2088584.0"
        ],
        [
         "12",
         "SUMATERA UTARA",
         "2023",
         "406109.49",
         "51.4",
         "2087474.15"
        ],
        [
         "13",
         "SUMATERA UTARA",
         "2024",
         "419463.48",
         "52.56",
         "2204875.51"
        ],
        [
         "14",
         "SUMATERA BARAT",
         "2018",
         "313050.82",
         "47.37",
         "1483076.48"
        ],
        [
         "15",
         "SUMATERA BARAT",
         "2019",
         "311671.23",
         "47.58",
         "1482996.01"
        ],
        [
         "16",
         "SUMATERA BARAT",
         "2020",
         "295664.47",
         "46.92",
         "1387269.29"
        ],
        [
         "17",
         "SUMATERA BARAT",
         "2021",
         "272391.95",
         "48.36",
         "1317209.38"
        ],
        [
         "18",
         "SUMATERA BARAT",
         "2022",
         "271883.1",
         "50.52",
         "1373532.0"
        ],
        [
         "19",
         "SUMATERA BARAT",
         "2023",
         "300564.77",
         "49.32",
         "1482468.79"
        ],
        [
         "20",
         "SUMATERA BARAT",
         "2024",
         "295278.98",
         "45.94",
         "1356467.93"
        ],
        [
         "21",
         "RIAU",
         "2018",
         "71448.08",
         "37.28",
         "266375.53"
        ],
        [
         "22",
         "RIAU",
         "2019",
         "63142.04",
         "36.56",
         "230873.97"
        ],
        [
         "23",
         "RIAU",
         "2020",
         "64733.13",
         "37.64",
         "243685.04"
        ],
        [
         "24",
         "RIAU",
         "2021",
         "53062.35",
         "40.98",
         "217458.87"
        ],
        [
         "25",
         "RIAU",
         "2022",
         "51054.04",
         "41.83",
         "213557.2"
        ],
        [
         "26",
         "RIAU",
         "2023",
         "51914.14",
         "39.68",
         "205972.55"
        ],
        [
         "27",
         "RIAU",
         "2024",
         "56421.96",
         "39.36",
         "222055.71"
        ],
        [
         "28",
         "JAMBI",
         "2018",
         "86202.68",
         "44.44",
         "383045.74"
        ],
        [
         "29",
         "JAMBI",
         "2019",
         "69536.06",
         "44.57",
         "309932.68"
        ],
        [
         "30",
         "JAMBI",
         "2020",
         "84772.93",
         "45.58",
         "386413.49"
        ],
        [
         "31",
         "JAMBI",
         "2021",
         "64412.26",
         "46.29",
         "298149.25"
        ],
        [
         "32",
         "JAMBI",
         "2022",
         "60539.59",
         "45.88",
         "277743.8"
        ],
        [
         "33",
         "JAMBI",
         "2023",
         "61236.64",
         "45.06",
         "275941.45"
        ],
        [
         "34",
         "JAMBI",
         "2024",
         "61625.68",
         "45.6",
         "281022.05"
        ],
        [
         "35",
         "SUMATERA SELATAN",
         "2018",
         "581574.61",
         "51.48",
         "2994191.84"
        ],
        [
         "36",
         "SUMATERA SELATAN",
         "2019",
         "539316.52",
         "48.27",
         "2603396.24"
        ],
        [
         "37",
         "SUMATERA SELATAN",
         "2020",
         "551320.76",
         "49.75",
         "2743059.68"
        ],
        [
         "38",
         "SUMATERA SELATAN",
         "2021",
         "496241.65",
         "51.44",
         "2552443.19"
        ],
        [
         "39",
         "SUMATERA SELATAN",
         "2022",
         "513378.2",
         "54.06",
         "2775069.0"
        ],
        [
         "40",
         "SUMATERA SELATAN",
         "2023",
         "504143.03",
         "56.19",
         "2832773.92"
        ],
        [
         "41",
         "SUMATERA SELATAN",
         "2024",
         "521092.21",
         "55.83",
         "2909411.67"
        ],
        [
         "42",
         "BENGKULU",
         "2018",
         "65891.16",
         "43.83",
         "288810.52"
        ],
        [
         "43",
         "BENGKULU",
         "2019",
         "64406.86",
         "46.03",
         "296472.07"
        ],
        [
         "44",
         "BENGKULU",
         "2020",
         "64137.28",
         "45.66",
         "292834.04"
        ],
        [
         "45",
         "BENGKULU",
         "2021",
         "55704.69",
         "48.67",
         "271117.19"
        ],
        [
         "46",
         "BENGKULU",
         "2022",
         "57151.84",
         "49.27",
         "281610.1"
        ],
        [
         "47",
         "BENGKULU",
         "2023",
         "57877.18",
         "49.53",
         "286684.43"
        ],
        [
         "48",
         "BENGKULU",
         "2024",
         "55775.09",
         "48.92",
         "272848.55"
        ],
        [
         "49",
         "LAMPUNG",
         "2018",
         "511940.93",
         "48.61",
         "2488641.91"
        ]
       ],
       "shape": {
        "columns": 5,
        "rows": 273
       }
      },
      "text/html": [
       "<div>\n",
       "<style scoped>\n",
       "    .dataframe tbody tr th:only-of-type {\n",
       "        vertical-align: middle;\n",
       "    }\n",
       "\n",
       "    .dataframe tbody tr th {\n",
       "        vertical-align: top;\n",
       "    }\n",
       "\n",
       "    .dataframe thead th {\n",
       "        text-align: right;\n",
       "    }\n",
       "</style>\n",
       "<table border=\"1\" class=\"dataframe\">\n",
       "  <thead>\n",
       "    <tr style=\"text-align: right;\">\n",
       "      <th></th>\n",
       "      <th>Provinsi</th>\n",
       "      <th>Tahun</th>\n",
       "      <th>Luas Panen (ha)</th>\n",
       "      <th>Produktivitas (ku/ha)</th>\n",
       "      <th>Produksi (ton)</th>\n",
       "    </tr>\n",
       "  </thead>\n",
       "  <tbody>\n",
       "    <tr>\n",
       "      <th>0</th>\n",
       "      <td>ACEH</td>\n",
       "      <td>2018</td>\n",
       "      <td>329515.78</td>\n",
       "      <td>56.49</td>\n",
       "      <td>1861567.10</td>\n",
       "    </tr>\n",
       "    <tr>\n",
       "      <th>1</th>\n",
       "      <td>ACEH</td>\n",
       "      <td>2019</td>\n",
       "      <td>310012.46</td>\n",
       "      <td>55.30</td>\n",
       "      <td>1714437.60</td>\n",
       "    </tr>\n",
       "    <tr>\n",
       "      <th>2</th>\n",
       "      <td>ACEH</td>\n",
       "      <td>2020</td>\n",
       "      <td>317869.41</td>\n",
       "      <td>55.28</td>\n",
       "      <td>1757313.07</td>\n",
       "    </tr>\n",
       "    <tr>\n",
       "      <th>3</th>\n",
       "      <td>ACEH</td>\n",
       "      <td>2021</td>\n",
       "      <td>297058.38</td>\n",
       "      <td>55.03</td>\n",
       "      <td>1634639.60</td>\n",
       "    </tr>\n",
       "    <tr>\n",
       "      <th>4</th>\n",
       "      <td>ACEH</td>\n",
       "      <td>2022</td>\n",
       "      <td>271750.20</td>\n",
       "      <td>55.55</td>\n",
       "      <td>1509456.00</td>\n",
       "    </tr>\n",
       "    <tr>\n",
       "      <th>...</th>\n",
       "      <td>...</td>\n",
       "      <td>...</td>\n",
       "      <td>...</td>\n",
       "      <td>...</td>\n",
       "      <td>...</td>\n",
       "    </tr>\n",
       "    <tr>\n",
       "      <th>268</th>\n",
       "      <td>INDONESIA</td>\n",
       "      <td>2020</td>\n",
       "      <td>10657274.96</td>\n",
       "      <td>51.28</td>\n",
       "      <td>54649202.24</td>\n",
       "    </tr>\n",
       "    <tr>\n",
       "      <th>269</th>\n",
       "      <td>INDONESIA</td>\n",
       "      <td>2021</td>\n",
       "      <td>10411801.22</td>\n",
       "      <td>52.26</td>\n",
       "      <td>54415294.22</td>\n",
       "    </tr>\n",
       "    <tr>\n",
       "      <th>270</th>\n",
       "      <td>INDONESIA</td>\n",
       "      <td>2022</td>\n",
       "      <td>10452672.00</td>\n",
       "      <td>52.38</td>\n",
       "      <td>54748977.00</td>\n",
       "    </tr>\n",
       "    <tr>\n",
       "      <th>271</th>\n",
       "      <td>INDONESIA</td>\n",
       "      <td>2023</td>\n",
       "      <td>10213705.17</td>\n",
       "      <td>52.85</td>\n",
       "      <td>53980993.19</td>\n",
       "    </tr>\n",
       "    <tr>\n",
       "      <th>272</th>\n",
       "      <td>INDONESIA</td>\n",
       "      <td>2024</td>\n",
       "      <td>10046135.36</td>\n",
       "      <td>52.90</td>\n",
       "      <td>53142726.65</td>\n",
       "    </tr>\n",
       "  </tbody>\n",
       "</table>\n",
       "<p>273 rows × 5 columns</p>\n",
       "</div>"
      ],
      "text/plain": [
       "      Provinsi  Tahun  Luas Panen (ha)  Produktivitas (ku/ha)  Produksi (ton)\n",
       "0         ACEH   2018        329515.78                  56.49      1861567.10\n",
       "1         ACEH   2019        310012.46                  55.30      1714437.60\n",
       "2         ACEH   2020        317869.41                  55.28      1757313.07\n",
       "3         ACEH   2021        297058.38                  55.03      1634639.60\n",
       "4         ACEH   2022        271750.20                  55.55      1509456.00\n",
       "..         ...    ...              ...                    ...             ...\n",
       "268  INDONESIA   2020      10657274.96                  51.28     54649202.24\n",
       "269  INDONESIA   2021      10411801.22                  52.26     54415294.22\n",
       "270  INDONESIA   2022      10452672.00                  52.38     54748977.00\n",
       "271  INDONESIA   2023      10213705.17                  52.85     53980993.19\n",
       "272  INDONESIA   2024      10046135.36                  52.90     53142726.65\n",
       "\n",
       "[273 rows x 5 columns]"
      ]
     },
     "execution_count": 6,
     "metadata": {},
     "output_type": "execute_result"
    }
   ],
   "source": [
    "df_raw = df_raw.apply(pd.to_numeric, errors='ignore')\n",
    "df_raw"
   ]
  },
  {
   "cell_type": "code",
   "execution_count": 7,
   "id": "c0e918c1",
   "metadata": {},
   "outputs": [
    {
     "data": {
      "application/vnd.microsoft.datawrangler.viewer.v0+json": {
       "columns": [
        {
         "name": "index",
         "rawType": "int64",
         "type": "integer"
        },
        {
         "name": "Provinsi",
         "rawType": "object",
         "type": "string"
        },
        {
         "name": "Tahun",
         "rawType": "datetime64[ns]",
         "type": "datetime"
        },
        {
         "name": "Luas Panen (ha)",
         "rawType": "float64",
         "type": "float"
        },
        {
         "name": "Produktivitas (ku/ha)",
         "rawType": "float64",
         "type": "float"
        },
        {
         "name": "Produksi (ton)",
         "rawType": "float64",
         "type": "float"
        }
       ],
       "ref": "72e614ba-ad9b-4967-82b9-d4986810b567",
       "rows": [
        [
         "0",
         "ACEH",
         "2018-01-01 00:00:00",
         "329515.78",
         "56.49",
         "1861567.1"
        ],
        [
         "1",
         "ACEH",
         "2019-01-01 00:00:00",
         "310012.46",
         "55.3",
         "1714437.6"
        ],
        [
         "2",
         "ACEH",
         "2020-01-01 00:00:00",
         "317869.41",
         "55.28",
         "1757313.07"
        ],
        [
         "3",
         "ACEH",
         "2021-01-01 00:00:00",
         "297058.38",
         "55.03",
         "1634639.6"
        ],
        [
         "4",
         "ACEH",
         "2022-01-01 00:00:00",
         "271750.2",
         "55.55",
         "1509456.0"
        ],
        [
         "5",
         "ACEH",
         "2023-01-01 00:00:00",
         "254287.38",
         "55.22",
         "1404234.82"
        ],
        [
         "6",
         "ACEH",
         "2024-01-01 00:00:00",
         "301196.35",
         "55.11",
         "1659966.28"
        ],
        [
         "7",
         "SUMATERA UTARA",
         "2018-01-01 00:00:00",
         "408176.45",
         "51.65",
         "2108284.72"
        ],
        [
         "8",
         "SUMATERA UTARA",
         "2019-01-01 00:00:00",
         "413141.24",
         "50.32",
         "2078901.59"
        ],
        [
         "9",
         "SUMATERA UTARA",
         "2020-01-01 00:00:00",
         "388591.22",
         "52.51",
         "2040500.19"
        ],
        [
         "10",
         "SUMATERA UTARA",
         "2021-01-01 00:00:00",
         "385405.0",
         "52.0",
         "2004142.51"
        ],
        [
         "11",
         "SUMATERA UTARA",
         "2022-01-01 00:00:00",
         "411462.1",
         "50.76",
         "2088584.0"
        ],
        [
         "12",
         "SUMATERA UTARA",
         "2023-01-01 00:00:00",
         "406109.49",
         "51.4",
         "2087474.15"
        ],
        [
         "13",
         "SUMATERA UTARA",
         "2024-01-01 00:00:00",
         "419463.48",
         "52.56",
         "2204875.51"
        ],
        [
         "14",
         "SUMATERA BARAT",
         "2018-01-01 00:00:00",
         "313050.82",
         "47.37",
         "1483076.48"
        ],
        [
         "15",
         "SUMATERA BARAT",
         "2019-01-01 00:00:00",
         "311671.23",
         "47.58",
         "1482996.01"
        ],
        [
         "16",
         "SUMATERA BARAT",
         "2020-01-01 00:00:00",
         "295664.47",
         "46.92",
         "1387269.29"
        ],
        [
         "17",
         "SUMATERA BARAT",
         "2021-01-01 00:00:00",
         "272391.95",
         "48.36",
         "1317209.38"
        ],
        [
         "18",
         "SUMATERA BARAT",
         "2022-01-01 00:00:00",
         "271883.1",
         "50.52",
         "1373532.0"
        ],
        [
         "19",
         "SUMATERA BARAT",
         "2023-01-01 00:00:00",
         "300564.77",
         "49.32",
         "1482468.79"
        ],
        [
         "20",
         "SUMATERA BARAT",
         "2024-01-01 00:00:00",
         "295278.98",
         "45.94",
         "1356467.93"
        ],
        [
         "21",
         "RIAU",
         "2018-01-01 00:00:00",
         "71448.08",
         "37.28",
         "266375.53"
        ],
        [
         "22",
         "RIAU",
         "2019-01-01 00:00:00",
         "63142.04",
         "36.56",
         "230873.97"
        ],
        [
         "23",
         "RIAU",
         "2020-01-01 00:00:00",
         "64733.13",
         "37.64",
         "243685.04"
        ],
        [
         "24",
         "RIAU",
         "2021-01-01 00:00:00",
         "53062.35",
         "40.98",
         "217458.87"
        ],
        [
         "25",
         "RIAU",
         "2022-01-01 00:00:00",
         "51054.04",
         "41.83",
         "213557.2"
        ],
        [
         "26",
         "RIAU",
         "2023-01-01 00:00:00",
         "51914.14",
         "39.68",
         "205972.55"
        ],
        [
         "27",
         "RIAU",
         "2024-01-01 00:00:00",
         "56421.96",
         "39.36",
         "222055.71"
        ],
        [
         "28",
         "JAMBI",
         "2018-01-01 00:00:00",
         "86202.68",
         "44.44",
         "383045.74"
        ],
        [
         "29",
         "JAMBI",
         "2019-01-01 00:00:00",
         "69536.06",
         "44.57",
         "309932.68"
        ],
        [
         "30",
         "JAMBI",
         "2020-01-01 00:00:00",
         "84772.93",
         "45.58",
         "386413.49"
        ],
        [
         "31",
         "JAMBI",
         "2021-01-01 00:00:00",
         "64412.26",
         "46.29",
         "298149.25"
        ],
        [
         "32",
         "JAMBI",
         "2022-01-01 00:00:00",
         "60539.59",
         "45.88",
         "277743.8"
        ],
        [
         "33",
         "JAMBI",
         "2023-01-01 00:00:00",
         "61236.64",
         "45.06",
         "275941.45"
        ],
        [
         "34",
         "JAMBI",
         "2024-01-01 00:00:00",
         "61625.68",
         "45.6",
         "281022.05"
        ],
        [
         "35",
         "SUMATERA SELATAN",
         "2018-01-01 00:00:00",
         "581574.61",
         "51.48",
         "2994191.84"
        ],
        [
         "36",
         "SUMATERA SELATAN",
         "2019-01-01 00:00:00",
         "539316.52",
         "48.27",
         "2603396.24"
        ],
        [
         "37",
         "SUMATERA SELATAN",
         "2020-01-01 00:00:00",
         "551320.76",
         "49.75",
         "2743059.68"
        ],
        [
         "38",
         "SUMATERA SELATAN",
         "2021-01-01 00:00:00",
         "496241.65",
         "51.44",
         "2552443.19"
        ],
        [
         "39",
         "SUMATERA SELATAN",
         "2022-01-01 00:00:00",
         "513378.2",
         "54.06",
         "2775069.0"
        ],
        [
         "40",
         "SUMATERA SELATAN",
         "2023-01-01 00:00:00",
         "504143.03",
         "56.19",
         "2832773.92"
        ],
        [
         "41",
         "SUMATERA SELATAN",
         "2024-01-01 00:00:00",
         "521092.21",
         "55.83",
         "2909411.67"
        ],
        [
         "42",
         "BENGKULU",
         "2018-01-01 00:00:00",
         "65891.16",
         "43.83",
         "288810.52"
        ],
        [
         "43",
         "BENGKULU",
         "2019-01-01 00:00:00",
         "64406.86",
         "46.03",
         "296472.07"
        ],
        [
         "44",
         "BENGKULU",
         "2020-01-01 00:00:00",
         "64137.28",
         "45.66",
         "292834.04"
        ],
        [
         "45",
         "BENGKULU",
         "2021-01-01 00:00:00",
         "55704.69",
         "48.67",
         "271117.19"
        ],
        [
         "46",
         "BENGKULU",
         "2022-01-01 00:00:00",
         "57151.84",
         "49.27",
         "281610.1"
        ],
        [
         "47",
         "BENGKULU",
         "2023-01-01 00:00:00",
         "57877.18",
         "49.53",
         "286684.43"
        ],
        [
         "48",
         "BENGKULU",
         "2024-01-01 00:00:00",
         "55775.09",
         "48.92",
         "272848.55"
        ],
        [
         "49",
         "LAMPUNG",
         "2018-01-01 00:00:00",
         "511940.93",
         "48.61",
         "2488641.91"
        ]
       ],
       "shape": {
        "columns": 5,
        "rows": 273
       }
      },
      "text/html": [
       "<div>\n",
       "<style scoped>\n",
       "    .dataframe tbody tr th:only-of-type {\n",
       "        vertical-align: middle;\n",
       "    }\n",
       "\n",
       "    .dataframe tbody tr th {\n",
       "        vertical-align: top;\n",
       "    }\n",
       "\n",
       "    .dataframe thead th {\n",
       "        text-align: right;\n",
       "    }\n",
       "</style>\n",
       "<table border=\"1\" class=\"dataframe\">\n",
       "  <thead>\n",
       "    <tr style=\"text-align: right;\">\n",
       "      <th></th>\n",
       "      <th>Provinsi</th>\n",
       "      <th>Tahun</th>\n",
       "      <th>Luas Panen (ha)</th>\n",
       "      <th>Produktivitas (ku/ha)</th>\n",
       "      <th>Produksi (ton)</th>\n",
       "    </tr>\n",
       "  </thead>\n",
       "  <tbody>\n",
       "    <tr>\n",
       "      <th>0</th>\n",
       "      <td>ACEH</td>\n",
       "      <td>2018-01-01</td>\n",
       "      <td>329515.78</td>\n",
       "      <td>56.49</td>\n",
       "      <td>1861567.10</td>\n",
       "    </tr>\n",
       "    <tr>\n",
       "      <th>1</th>\n",
       "      <td>ACEH</td>\n",
       "      <td>2019-01-01</td>\n",
       "      <td>310012.46</td>\n",
       "      <td>55.30</td>\n",
       "      <td>1714437.60</td>\n",
       "    </tr>\n",
       "    <tr>\n",
       "      <th>2</th>\n",
       "      <td>ACEH</td>\n",
       "      <td>2020-01-01</td>\n",
       "      <td>317869.41</td>\n",
       "      <td>55.28</td>\n",
       "      <td>1757313.07</td>\n",
       "    </tr>\n",
       "    <tr>\n",
       "      <th>3</th>\n",
       "      <td>ACEH</td>\n",
       "      <td>2021-01-01</td>\n",
       "      <td>297058.38</td>\n",
       "      <td>55.03</td>\n",
       "      <td>1634639.60</td>\n",
       "    </tr>\n",
       "    <tr>\n",
       "      <th>4</th>\n",
       "      <td>ACEH</td>\n",
       "      <td>2022-01-01</td>\n",
       "      <td>271750.20</td>\n",
       "      <td>55.55</td>\n",
       "      <td>1509456.00</td>\n",
       "    </tr>\n",
       "    <tr>\n",
       "      <th>...</th>\n",
       "      <td>...</td>\n",
       "      <td>...</td>\n",
       "      <td>...</td>\n",
       "      <td>...</td>\n",
       "      <td>...</td>\n",
       "    </tr>\n",
       "    <tr>\n",
       "      <th>268</th>\n",
       "      <td>INDONESIA</td>\n",
       "      <td>2020-01-01</td>\n",
       "      <td>10657274.96</td>\n",
       "      <td>51.28</td>\n",
       "      <td>54649202.24</td>\n",
       "    </tr>\n",
       "    <tr>\n",
       "      <th>269</th>\n",
       "      <td>INDONESIA</td>\n",
       "      <td>2021-01-01</td>\n",
       "      <td>10411801.22</td>\n",
       "      <td>52.26</td>\n",
       "      <td>54415294.22</td>\n",
       "    </tr>\n",
       "    <tr>\n",
       "      <th>270</th>\n",
       "      <td>INDONESIA</td>\n",
       "      <td>2022-01-01</td>\n",
       "      <td>10452672.00</td>\n",
       "      <td>52.38</td>\n",
       "      <td>54748977.00</td>\n",
       "    </tr>\n",
       "    <tr>\n",
       "      <th>271</th>\n",
       "      <td>INDONESIA</td>\n",
       "      <td>2023-01-01</td>\n",
       "      <td>10213705.17</td>\n",
       "      <td>52.85</td>\n",
       "      <td>53980993.19</td>\n",
       "    </tr>\n",
       "    <tr>\n",
       "      <th>272</th>\n",
       "      <td>INDONESIA</td>\n",
       "      <td>2024-01-01</td>\n",
       "      <td>10046135.36</td>\n",
       "      <td>52.90</td>\n",
       "      <td>53142726.65</td>\n",
       "    </tr>\n",
       "  </tbody>\n",
       "</table>\n",
       "<p>273 rows × 5 columns</p>\n",
       "</div>"
      ],
      "text/plain": [
       "      Provinsi      Tahun  Luas Panen (ha)  Produktivitas (ku/ha)  \\\n",
       "0         ACEH 2018-01-01        329515.78                  56.49   \n",
       "1         ACEH 2019-01-01        310012.46                  55.30   \n",
       "2         ACEH 2020-01-01        317869.41                  55.28   \n",
       "3         ACEH 2021-01-01        297058.38                  55.03   \n",
       "4         ACEH 2022-01-01        271750.20                  55.55   \n",
       "..         ...        ...              ...                    ...   \n",
       "268  INDONESIA 2020-01-01      10657274.96                  51.28   \n",
       "269  INDONESIA 2021-01-01      10411801.22                  52.26   \n",
       "270  INDONESIA 2022-01-01      10452672.00                  52.38   \n",
       "271  INDONESIA 2023-01-01      10213705.17                  52.85   \n",
       "272  INDONESIA 2024-01-01      10046135.36                  52.90   \n",
       "\n",
       "     Produksi (ton)  \n",
       "0        1861567.10  \n",
       "1        1714437.60  \n",
       "2        1757313.07  \n",
       "3        1634639.60  \n",
       "4        1509456.00  \n",
       "..              ...  \n",
       "268     54649202.24  \n",
       "269     54415294.22  \n",
       "270     54748977.00  \n",
       "271     53980993.19  \n",
       "272     53142726.65  \n",
       "\n",
       "[273 rows x 5 columns]"
      ]
     },
     "execution_count": 7,
     "metadata": {},
     "output_type": "execute_result"
    }
   ],
   "source": [
    "df_raw[\"Tahun\"] = pd.to_datetime(df_raw.Tahun, format='%Y')\n",
    "df_raw"
   ]
  },
  {
   "cell_type": "code",
   "execution_count": 8,
   "id": "3b0347e5",
   "metadata": {},
   "outputs": [
    {
     "name": "stdout",
     "output_type": "stream",
     "text": [
      "<class 'pandas.core.frame.DataFrame'>\n",
      "RangeIndex: 273 entries, 0 to 272\n",
      "Data columns (total 5 columns):\n",
      " #   Column                 Non-Null Count  Dtype         \n",
      "---  ------                 --------------  -----         \n",
      " 0   Provinsi               273 non-null    object        \n",
      " 1   Tahun                  273 non-null    datetime64[ns]\n",
      " 2   Luas Panen (ha)        273 non-null    float64       \n",
      " 3   Produktivitas (ku/ha)  273 non-null    float64       \n",
      " 4   Produksi (ton)         273 non-null    float64       \n",
      "dtypes: datetime64[ns](1), float64(3), object(1)\n",
      "memory usage: 10.8+ KB\n"
     ]
    }
   ],
   "source": [
    "df_raw.info()"
   ]
  },
  {
   "cell_type": "code",
   "execution_count": 9,
   "id": "87c10935",
   "metadata": {},
   "outputs": [],
   "source": [
    "df_raw.to_excel(\"Luas_Panen_Produksi_dan_Produktivitas_Padi_Menurut_Provinsi_Cleaned.xlsx\", index=False)"
   ]
  },
  {
   "cell_type": "markdown",
   "id": "15864222",
   "metadata": {},
   "source": [
    "#### EDA"
   ]
  },
  {
   "cell_type": "code",
   "execution_count": 10,
   "id": "51629c68",
   "metadata": {},
   "outputs": [
    {
     "data": {
      "application/vnd.microsoft.datawrangler.viewer.v0+json": {
       "columns": [
        {
         "name": "index",
         "rawType": "int64",
         "type": "integer"
        },
        {
         "name": "Provinsi",
         "rawType": "object",
         "type": "string"
        },
        {
         "name": "Tahun",
         "rawType": "datetime64[ns]",
         "type": "datetime"
        },
        {
         "name": "Luas Panen (ha)",
         "rawType": "float64",
         "type": "float"
        },
        {
         "name": "Produktivitas (ku/ha)",
         "rawType": "float64",
         "type": "float"
        },
        {
         "name": "Produksi (ton)",
         "rawType": "float64",
         "type": "float"
        }
       ],
       "ref": "25d8f402-a5a3-4a1e-b9db-530ed15e663b",
       "rows": [
        [
         "0",
         "ACEH",
         "2018-01-01 00:00:00",
         "329515.78",
         "56.49",
         "1861567.1"
        ],
        [
         "1",
         "ACEH",
         "2019-01-01 00:00:00",
         "310012.46",
         "55.3",
         "1714437.6"
        ],
        [
         "2",
         "ACEH",
         "2020-01-01 00:00:00",
         "317869.41",
         "55.28",
         "1757313.07"
        ],
        [
         "3",
         "ACEH",
         "2021-01-01 00:00:00",
         "297058.38",
         "55.03",
         "1634639.6"
        ],
        [
         "4",
         "ACEH",
         "2022-01-01 00:00:00",
         "271750.2",
         "55.55",
         "1509456.0"
        ],
        [
         "5",
         "ACEH",
         "2023-01-01 00:00:00",
         "254287.38",
         "55.22",
         "1404234.82"
        ],
        [
         "6",
         "ACEH",
         "2024-01-01 00:00:00",
         "301196.35",
         "55.11",
         "1659966.28"
        ],
        [
         "7",
         "SUMATERA UTARA",
         "2018-01-01 00:00:00",
         "408176.45",
         "51.65",
         "2108284.72"
        ],
        [
         "8",
         "SUMATERA UTARA",
         "2019-01-01 00:00:00",
         "413141.24",
         "50.32",
         "2078901.59"
        ],
        [
         "9",
         "SUMATERA UTARA",
         "2020-01-01 00:00:00",
         "388591.22",
         "52.51",
         "2040500.19"
        ],
        [
         "10",
         "SUMATERA UTARA",
         "2021-01-01 00:00:00",
         "385405.0",
         "52.0",
         "2004142.51"
        ],
        [
         "11",
         "SUMATERA UTARA",
         "2022-01-01 00:00:00",
         "411462.1",
         "50.76",
         "2088584.0"
        ],
        [
         "12",
         "SUMATERA UTARA",
         "2023-01-01 00:00:00",
         "406109.49",
         "51.4",
         "2087474.15"
        ],
        [
         "13",
         "SUMATERA UTARA",
         "2024-01-01 00:00:00",
         "419463.48",
         "52.56",
         "2204875.51"
        ],
        [
         "14",
         "SUMATERA BARAT",
         "2018-01-01 00:00:00",
         "313050.82",
         "47.37",
         "1483076.48"
        ],
        [
         "15",
         "SUMATERA BARAT",
         "2019-01-01 00:00:00",
         "311671.23",
         "47.58",
         "1482996.01"
        ],
        [
         "16",
         "SUMATERA BARAT",
         "2020-01-01 00:00:00",
         "295664.47",
         "46.92",
         "1387269.29"
        ],
        [
         "17",
         "SUMATERA BARAT",
         "2021-01-01 00:00:00",
         "272391.95",
         "48.36",
         "1317209.38"
        ],
        [
         "18",
         "SUMATERA BARAT",
         "2022-01-01 00:00:00",
         "271883.1",
         "50.52",
         "1373532.0"
        ],
        [
         "19",
         "SUMATERA BARAT",
         "2023-01-01 00:00:00",
         "300564.77",
         "49.32",
         "1482468.79"
        ],
        [
         "20",
         "SUMATERA BARAT",
         "2024-01-01 00:00:00",
         "295278.98",
         "45.94",
         "1356467.93"
        ],
        [
         "21",
         "RIAU",
         "2018-01-01 00:00:00",
         "71448.08",
         "37.28",
         "266375.53"
        ],
        [
         "22",
         "RIAU",
         "2019-01-01 00:00:00",
         "63142.04",
         "36.56",
         "230873.97"
        ],
        [
         "23",
         "RIAU",
         "2020-01-01 00:00:00",
         "64733.13",
         "37.64",
         "243685.04"
        ],
        [
         "24",
         "RIAU",
         "2021-01-01 00:00:00",
         "53062.35",
         "40.98",
         "217458.87"
        ],
        [
         "25",
         "RIAU",
         "2022-01-01 00:00:00",
         "51054.04",
         "41.83",
         "213557.2"
        ],
        [
         "26",
         "RIAU",
         "2023-01-01 00:00:00",
         "51914.14",
         "39.68",
         "205972.55"
        ],
        [
         "27",
         "RIAU",
         "2024-01-01 00:00:00",
         "56421.96",
         "39.36",
         "222055.71"
        ],
        [
         "28",
         "JAMBI",
         "2018-01-01 00:00:00",
         "86202.68",
         "44.44",
         "383045.74"
        ],
        [
         "29",
         "JAMBI",
         "2019-01-01 00:00:00",
         "69536.06",
         "44.57",
         "309932.68"
        ],
        [
         "30",
         "JAMBI",
         "2020-01-01 00:00:00",
         "84772.93",
         "45.58",
         "386413.49"
        ],
        [
         "31",
         "JAMBI",
         "2021-01-01 00:00:00",
         "64412.26",
         "46.29",
         "298149.25"
        ],
        [
         "32",
         "JAMBI",
         "2022-01-01 00:00:00",
         "60539.59",
         "45.88",
         "277743.8"
        ],
        [
         "33",
         "JAMBI",
         "2023-01-01 00:00:00",
         "61236.64",
         "45.06",
         "275941.45"
        ],
        [
         "34",
         "JAMBI",
         "2024-01-01 00:00:00",
         "61625.68",
         "45.6",
         "281022.05"
        ],
        [
         "35",
         "SUMATERA SELATAN",
         "2018-01-01 00:00:00",
         "581574.61",
         "51.48",
         "2994191.84"
        ],
        [
         "36",
         "SUMATERA SELATAN",
         "2019-01-01 00:00:00",
         "539316.52",
         "48.27",
         "2603396.24"
        ],
        [
         "37",
         "SUMATERA SELATAN",
         "2020-01-01 00:00:00",
         "551320.76",
         "49.75",
         "2743059.68"
        ],
        [
         "38",
         "SUMATERA SELATAN",
         "2021-01-01 00:00:00",
         "496241.65",
         "51.44",
         "2552443.19"
        ],
        [
         "39",
         "SUMATERA SELATAN",
         "2022-01-01 00:00:00",
         "513378.2",
         "54.06",
         "2775069.0"
        ],
        [
         "40",
         "SUMATERA SELATAN",
         "2023-01-01 00:00:00",
         "504143.03",
         "56.19",
         "2832773.92"
        ],
        [
         "41",
         "SUMATERA SELATAN",
         "2024-01-01 00:00:00",
         "521092.21",
         "55.83",
         "2909411.67"
        ],
        [
         "42",
         "BENGKULU",
         "2018-01-01 00:00:00",
         "65891.16",
         "43.83",
         "288810.52"
        ],
        [
         "43",
         "BENGKULU",
         "2019-01-01 00:00:00",
         "64406.86",
         "46.03",
         "296472.07"
        ],
        [
         "44",
         "BENGKULU",
         "2020-01-01 00:00:00",
         "64137.28",
         "45.66",
         "292834.04"
        ],
        [
         "45",
         "BENGKULU",
         "2021-01-01 00:00:00",
         "55704.69",
         "48.67",
         "271117.19"
        ],
        [
         "46",
         "BENGKULU",
         "2022-01-01 00:00:00",
         "57151.84",
         "49.27",
         "281610.1"
        ],
        [
         "47",
         "BENGKULU",
         "2023-01-01 00:00:00",
         "57877.18",
         "49.53",
         "286684.43"
        ],
        [
         "48",
         "BENGKULU",
         "2024-01-01 00:00:00",
         "55775.09",
         "48.92",
         "272848.55"
        ],
        [
         "49",
         "LAMPUNG",
         "2018-01-01 00:00:00",
         "511940.93",
         "48.61",
         "2488641.91"
        ]
       ],
       "shape": {
        "columns": 5,
        "rows": 273
       }
      },
      "text/html": [
       "<div>\n",
       "<style scoped>\n",
       "    .dataframe tbody tr th:only-of-type {\n",
       "        vertical-align: middle;\n",
       "    }\n",
       "\n",
       "    .dataframe tbody tr th {\n",
       "        vertical-align: top;\n",
       "    }\n",
       "\n",
       "    .dataframe thead th {\n",
       "        text-align: right;\n",
       "    }\n",
       "</style>\n",
       "<table border=\"1\" class=\"dataframe\">\n",
       "  <thead>\n",
       "    <tr style=\"text-align: right;\">\n",
       "      <th></th>\n",
       "      <th>Provinsi</th>\n",
       "      <th>Tahun</th>\n",
       "      <th>Luas Panen (ha)</th>\n",
       "      <th>Produktivitas (ku/ha)</th>\n",
       "      <th>Produksi (ton)</th>\n",
       "    </tr>\n",
       "  </thead>\n",
       "  <tbody>\n",
       "    <tr>\n",
       "      <th>0</th>\n",
       "      <td>ACEH</td>\n",
       "      <td>2018-01-01</td>\n",
       "      <td>329515.78</td>\n",
       "      <td>56.49</td>\n",
       "      <td>1861567.10</td>\n",
       "    </tr>\n",
       "    <tr>\n",
       "      <th>1</th>\n",
       "      <td>ACEH</td>\n",
       "      <td>2019-01-01</td>\n",
       "      <td>310012.46</td>\n",
       "      <td>55.30</td>\n",
       "      <td>1714437.60</td>\n",
       "    </tr>\n",
       "    <tr>\n",
       "      <th>2</th>\n",
       "      <td>ACEH</td>\n",
       "      <td>2020-01-01</td>\n",
       "      <td>317869.41</td>\n",
       "      <td>55.28</td>\n",
       "      <td>1757313.07</td>\n",
       "    </tr>\n",
       "    <tr>\n",
       "      <th>3</th>\n",
       "      <td>ACEH</td>\n",
       "      <td>2021-01-01</td>\n",
       "      <td>297058.38</td>\n",
       "      <td>55.03</td>\n",
       "      <td>1634639.60</td>\n",
       "    </tr>\n",
       "    <tr>\n",
       "      <th>4</th>\n",
       "      <td>ACEH</td>\n",
       "      <td>2022-01-01</td>\n",
       "      <td>271750.20</td>\n",
       "      <td>55.55</td>\n",
       "      <td>1509456.00</td>\n",
       "    </tr>\n",
       "    <tr>\n",
       "      <th>...</th>\n",
       "      <td>...</td>\n",
       "      <td>...</td>\n",
       "      <td>...</td>\n",
       "      <td>...</td>\n",
       "      <td>...</td>\n",
       "    </tr>\n",
       "    <tr>\n",
       "      <th>268</th>\n",
       "      <td>INDONESIA</td>\n",
       "      <td>2020-01-01</td>\n",
       "      <td>10657274.96</td>\n",
       "      <td>51.28</td>\n",
       "      <td>54649202.24</td>\n",
       "    </tr>\n",
       "    <tr>\n",
       "      <th>269</th>\n",
       "      <td>INDONESIA</td>\n",
       "      <td>2021-01-01</td>\n",
       "      <td>10411801.22</td>\n",
       "      <td>52.26</td>\n",
       "      <td>54415294.22</td>\n",
       "    </tr>\n",
       "    <tr>\n",
       "      <th>270</th>\n",
       "      <td>INDONESIA</td>\n",
       "      <td>2022-01-01</td>\n",
       "      <td>10452672.00</td>\n",
       "      <td>52.38</td>\n",
       "      <td>54748977.00</td>\n",
       "    </tr>\n",
       "    <tr>\n",
       "      <th>271</th>\n",
       "      <td>INDONESIA</td>\n",
       "      <td>2023-01-01</td>\n",
       "      <td>10213705.17</td>\n",
       "      <td>52.85</td>\n",
       "      <td>53980993.19</td>\n",
       "    </tr>\n",
       "    <tr>\n",
       "      <th>272</th>\n",
       "      <td>INDONESIA</td>\n",
       "      <td>2024-01-01</td>\n",
       "      <td>10046135.36</td>\n",
       "      <td>52.90</td>\n",
       "      <td>53142726.65</td>\n",
       "    </tr>\n",
       "  </tbody>\n",
       "</table>\n",
       "<p>273 rows × 5 columns</p>\n",
       "</div>"
      ],
      "text/plain": [
       "      Provinsi      Tahun  Luas Panen (ha)  Produktivitas (ku/ha)  \\\n",
       "0         ACEH 2018-01-01        329515.78                  56.49   \n",
       "1         ACEH 2019-01-01        310012.46                  55.30   \n",
       "2         ACEH 2020-01-01        317869.41                  55.28   \n",
       "3         ACEH 2021-01-01        297058.38                  55.03   \n",
       "4         ACEH 2022-01-01        271750.20                  55.55   \n",
       "..         ...        ...              ...                    ...   \n",
       "268  INDONESIA 2020-01-01      10657274.96                  51.28   \n",
       "269  INDONESIA 2021-01-01      10411801.22                  52.26   \n",
       "270  INDONESIA 2022-01-01      10452672.00                  52.38   \n",
       "271  INDONESIA 2023-01-01      10213705.17                  52.85   \n",
       "272  INDONESIA 2024-01-01      10046135.36                  52.90   \n",
       "\n",
       "     Produksi (ton)  \n",
       "0        1861567.10  \n",
       "1        1714437.60  \n",
       "2        1757313.07  \n",
       "3        1634639.60  \n",
       "4        1509456.00  \n",
       "..              ...  \n",
       "268     54649202.24  \n",
       "269     54415294.22  \n",
       "270     54748977.00  \n",
       "271     53980993.19  \n",
       "272     53142726.65  \n",
       "\n",
       "[273 rows x 5 columns]"
      ]
     },
     "execution_count": 10,
     "metadata": {},
     "output_type": "execute_result"
    }
   ],
   "source": [
    "df_clean = pd.read_excel(\"Luas_Panen_Produksi_dan_Produktivitas_Padi_Menurut_Provinsi_Cleaned.xlsx\")\n",
    "df_clean"
   ]
  },
  {
   "cell_type": "code",
   "execution_count": 11,
   "id": "5e964321",
   "metadata": {},
   "outputs": [
    {
     "data": {
      "application/vnd.microsoft.datawrangler.viewer.v0+json": {
       "columns": [
        {
         "name": "index",
         "rawType": "int64",
         "type": "integer"
        },
        {
         "name": "Provinsi",
         "rawType": "object",
         "type": "string"
        },
        {
         "name": "Tahun",
         "rawType": "datetime64[ns]",
         "type": "datetime"
        },
        {
         "name": "Luas Panen (ha)",
         "rawType": "float64",
         "type": "float"
        },
        {
         "name": "Produktivitas (ku/ha)",
         "rawType": "float64",
         "type": "float"
        },
        {
         "name": "Produksi (ton)",
         "rawType": "float64",
         "type": "float"
        }
       ],
       "ref": "580f8970-dc9d-492f-a708-ed2f3c396e83",
       "rows": [
        [
         "0",
         "ACEH",
         "2018-01-01 00:00:00",
         "329515.78",
         "56.49",
         "1861567.1"
        ],
        [
         "1",
         "ACEH",
         "2019-01-01 00:00:00",
         "310012.46",
         "55.3",
         "1714437.6"
        ],
        [
         "2",
         "ACEH",
         "2020-01-01 00:00:00",
         "317869.41",
         "55.28",
         "1757313.07"
        ],
        [
         "3",
         "ACEH",
         "2021-01-01 00:00:00",
         "297058.38",
         "55.03",
         "1634639.6"
        ],
        [
         "4",
         "ACEH",
         "2022-01-01 00:00:00",
         "271750.2",
         "55.55",
         "1509456.0"
        ],
        [
         "5",
         "ACEH",
         "2023-01-01 00:00:00",
         "254287.38",
         "55.22",
         "1404234.82"
        ],
        [
         "6",
         "ACEH",
         "2024-01-01 00:00:00",
         "301196.35",
         "55.11",
         "1659966.28"
        ],
        [
         "7",
         "SUMATERA UTARA",
         "2018-01-01 00:00:00",
         "408176.45",
         "51.65",
         "2108284.72"
        ],
        [
         "8",
         "SUMATERA UTARA",
         "2019-01-01 00:00:00",
         "413141.24",
         "50.32",
         "2078901.59"
        ],
        [
         "9",
         "SUMATERA UTARA",
         "2020-01-01 00:00:00",
         "388591.22",
         "52.51",
         "2040500.19"
        ],
        [
         "10",
         "SUMATERA UTARA",
         "2021-01-01 00:00:00",
         "385405.0",
         "52.0",
         "2004142.51"
        ],
        [
         "11",
         "SUMATERA UTARA",
         "2022-01-01 00:00:00",
         "411462.1",
         "50.76",
         "2088584.0"
        ],
        [
         "12",
         "SUMATERA UTARA",
         "2023-01-01 00:00:00",
         "406109.49",
         "51.4",
         "2087474.15"
        ],
        [
         "13",
         "SUMATERA UTARA",
         "2024-01-01 00:00:00",
         "419463.48",
         "52.56",
         "2204875.51"
        ],
        [
         "14",
         "SUMATERA BARAT",
         "2018-01-01 00:00:00",
         "313050.82",
         "47.37",
         "1483076.48"
        ],
        [
         "15",
         "SUMATERA BARAT",
         "2019-01-01 00:00:00",
         "311671.23",
         "47.58",
         "1482996.01"
        ],
        [
         "16",
         "SUMATERA BARAT",
         "2020-01-01 00:00:00",
         "295664.47",
         "46.92",
         "1387269.29"
        ],
        [
         "17",
         "SUMATERA BARAT",
         "2021-01-01 00:00:00",
         "272391.95",
         "48.36",
         "1317209.38"
        ],
        [
         "18",
         "SUMATERA BARAT",
         "2022-01-01 00:00:00",
         "271883.1",
         "50.52",
         "1373532.0"
        ],
        [
         "19",
         "SUMATERA BARAT",
         "2023-01-01 00:00:00",
         "300564.77",
         "49.32",
         "1482468.79"
        ],
        [
         "20",
         "SUMATERA BARAT",
         "2024-01-01 00:00:00",
         "295278.98",
         "45.94",
         "1356467.93"
        ],
        [
         "21",
         "RIAU",
         "2018-01-01 00:00:00",
         "71448.08",
         "37.28",
         "266375.53"
        ],
        [
         "22",
         "RIAU",
         "2019-01-01 00:00:00",
         "63142.04",
         "36.56",
         "230873.97"
        ],
        [
         "23",
         "RIAU",
         "2020-01-01 00:00:00",
         "64733.13",
         "37.64",
         "243685.04"
        ],
        [
         "24",
         "RIAU",
         "2021-01-01 00:00:00",
         "53062.35",
         "40.98",
         "217458.87"
        ],
        [
         "25",
         "RIAU",
         "2022-01-01 00:00:00",
         "51054.04",
         "41.83",
         "213557.2"
        ],
        [
         "26",
         "RIAU",
         "2023-01-01 00:00:00",
         "51914.14",
         "39.68",
         "205972.55"
        ],
        [
         "27",
         "RIAU",
         "2024-01-01 00:00:00",
         "56421.96",
         "39.36",
         "222055.71"
        ],
        [
         "28",
         "JAMBI",
         "2018-01-01 00:00:00",
         "86202.68",
         "44.44",
         "383045.74"
        ],
        [
         "29",
         "JAMBI",
         "2019-01-01 00:00:00",
         "69536.06",
         "44.57",
         "309932.68"
        ],
        [
         "30",
         "JAMBI",
         "2020-01-01 00:00:00",
         "84772.93",
         "45.58",
         "386413.49"
        ],
        [
         "31",
         "JAMBI",
         "2021-01-01 00:00:00",
         "64412.26",
         "46.29",
         "298149.25"
        ],
        [
         "32",
         "JAMBI",
         "2022-01-01 00:00:00",
         "60539.59",
         "45.88",
         "277743.8"
        ],
        [
         "33",
         "JAMBI",
         "2023-01-01 00:00:00",
         "61236.64",
         "45.06",
         "275941.45"
        ],
        [
         "34",
         "JAMBI",
         "2024-01-01 00:00:00",
         "61625.68",
         "45.6",
         "281022.05"
        ],
        [
         "35",
         "SUMATERA SELATAN",
         "2018-01-01 00:00:00",
         "581574.61",
         "51.48",
         "2994191.84"
        ],
        [
         "36",
         "SUMATERA SELATAN",
         "2019-01-01 00:00:00",
         "539316.52",
         "48.27",
         "2603396.24"
        ],
        [
         "37",
         "SUMATERA SELATAN",
         "2020-01-01 00:00:00",
         "551320.76",
         "49.75",
         "2743059.68"
        ],
        [
         "38",
         "SUMATERA SELATAN",
         "2021-01-01 00:00:00",
         "496241.65",
         "51.44",
         "2552443.19"
        ],
        [
         "39",
         "SUMATERA SELATAN",
         "2022-01-01 00:00:00",
         "513378.2",
         "54.06",
         "2775069.0"
        ],
        [
         "40",
         "SUMATERA SELATAN",
         "2023-01-01 00:00:00",
         "504143.03",
         "56.19",
         "2832773.92"
        ],
        [
         "41",
         "SUMATERA SELATAN",
         "2024-01-01 00:00:00",
         "521092.21",
         "55.83",
         "2909411.67"
        ],
        [
         "42",
         "BENGKULU",
         "2018-01-01 00:00:00",
         "65891.16",
         "43.83",
         "288810.52"
        ],
        [
         "43",
         "BENGKULU",
         "2019-01-01 00:00:00",
         "64406.86",
         "46.03",
         "296472.07"
        ],
        [
         "44",
         "BENGKULU",
         "2020-01-01 00:00:00",
         "64137.28",
         "45.66",
         "292834.04"
        ],
        [
         "45",
         "BENGKULU",
         "2021-01-01 00:00:00",
         "55704.69",
         "48.67",
         "271117.19"
        ],
        [
         "46",
         "BENGKULU",
         "2022-01-01 00:00:00",
         "57151.84",
         "49.27",
         "281610.1"
        ],
        [
         "47",
         "BENGKULU",
         "2023-01-01 00:00:00",
         "57877.18",
         "49.53",
         "286684.43"
        ],
        [
         "48",
         "BENGKULU",
         "2024-01-01 00:00:00",
         "55775.09",
         "48.92",
         "272848.55"
        ],
        [
         "49",
         "LAMPUNG",
         "2018-01-01 00:00:00",
         "511940.93",
         "48.61",
         "2488641.91"
        ]
       ],
       "shape": {
        "columns": 5,
        "rows": 266
       }
      },
      "text/html": [
       "<div>\n",
       "<style scoped>\n",
       "    .dataframe tbody tr th:only-of-type {\n",
       "        vertical-align: middle;\n",
       "    }\n",
       "\n",
       "    .dataframe tbody tr th {\n",
       "        vertical-align: top;\n",
       "    }\n",
       "\n",
       "    .dataframe thead th {\n",
       "        text-align: right;\n",
       "    }\n",
       "</style>\n",
       "<table border=\"1\" class=\"dataframe\">\n",
       "  <thead>\n",
       "    <tr style=\"text-align: right;\">\n",
       "      <th></th>\n",
       "      <th>Provinsi</th>\n",
       "      <th>Tahun</th>\n",
       "      <th>Luas Panen (ha)</th>\n",
       "      <th>Produktivitas (ku/ha)</th>\n",
       "      <th>Produksi (ton)</th>\n",
       "    </tr>\n",
       "  </thead>\n",
       "  <tbody>\n",
       "    <tr>\n",
       "      <th>0</th>\n",
       "      <td>ACEH</td>\n",
       "      <td>2018-01-01</td>\n",
       "      <td>329515.78</td>\n",
       "      <td>56.49</td>\n",
       "      <td>1861567.10</td>\n",
       "    </tr>\n",
       "    <tr>\n",
       "      <th>1</th>\n",
       "      <td>ACEH</td>\n",
       "      <td>2019-01-01</td>\n",
       "      <td>310012.46</td>\n",
       "      <td>55.30</td>\n",
       "      <td>1714437.60</td>\n",
       "    </tr>\n",
       "    <tr>\n",
       "      <th>2</th>\n",
       "      <td>ACEH</td>\n",
       "      <td>2020-01-01</td>\n",
       "      <td>317869.41</td>\n",
       "      <td>55.28</td>\n",
       "      <td>1757313.07</td>\n",
       "    </tr>\n",
       "    <tr>\n",
       "      <th>3</th>\n",
       "      <td>ACEH</td>\n",
       "      <td>2021-01-01</td>\n",
       "      <td>297058.38</td>\n",
       "      <td>55.03</td>\n",
       "      <td>1634639.60</td>\n",
       "    </tr>\n",
       "    <tr>\n",
       "      <th>4</th>\n",
       "      <td>ACEH</td>\n",
       "      <td>2022-01-01</td>\n",
       "      <td>271750.20</td>\n",
       "      <td>55.55</td>\n",
       "      <td>1509456.00</td>\n",
       "    </tr>\n",
       "    <tr>\n",
       "      <th>...</th>\n",
       "      <td>...</td>\n",
       "      <td>...</td>\n",
       "      <td>...</td>\n",
       "      <td>...</td>\n",
       "      <td>...</td>\n",
       "    </tr>\n",
       "    <tr>\n",
       "      <th>261</th>\n",
       "      <td>PAPUA PEGUNUNGAN</td>\n",
       "      <td>2020-01-01</td>\n",
       "      <td>0.00</td>\n",
       "      <td>0.00</td>\n",
       "      <td>0.00</td>\n",
       "    </tr>\n",
       "    <tr>\n",
       "      <th>262</th>\n",
       "      <td>PAPUA PEGUNUNGAN</td>\n",
       "      <td>2021-01-01</td>\n",
       "      <td>0.00</td>\n",
       "      <td>0.00</td>\n",
       "      <td>0.00</td>\n",
       "    </tr>\n",
       "    <tr>\n",
       "      <th>263</th>\n",
       "      <td>PAPUA PEGUNUNGAN</td>\n",
       "      <td>2022-01-01</td>\n",
       "      <td>0.00</td>\n",
       "      <td>0.00</td>\n",
       "      <td>0.00</td>\n",
       "    </tr>\n",
       "    <tr>\n",
       "      <th>264</th>\n",
       "      <td>PAPUA PEGUNUNGAN</td>\n",
       "      <td>2023-01-01</td>\n",
       "      <td>14.14</td>\n",
       "      <td>43.59</td>\n",
       "      <td>61.63</td>\n",
       "    </tr>\n",
       "    <tr>\n",
       "      <th>265</th>\n",
       "      <td>PAPUA PEGUNUNGAN</td>\n",
       "      <td>2024-01-01</td>\n",
       "      <td>9.66</td>\n",
       "      <td>43.87</td>\n",
       "      <td>42.38</td>\n",
       "    </tr>\n",
       "  </tbody>\n",
       "</table>\n",
       "<p>266 rows × 5 columns</p>\n",
       "</div>"
      ],
      "text/plain": [
       "             Provinsi      Tahun  Luas Panen (ha)  Produktivitas (ku/ha)  \\\n",
       "0                ACEH 2018-01-01        329515.78                  56.49   \n",
       "1                ACEH 2019-01-01        310012.46                  55.30   \n",
       "2                ACEH 2020-01-01        317869.41                  55.28   \n",
       "3                ACEH 2021-01-01        297058.38                  55.03   \n",
       "4                ACEH 2022-01-01        271750.20                  55.55   \n",
       "..                ...        ...              ...                    ...   \n",
       "261  PAPUA PEGUNUNGAN 2020-01-01             0.00                   0.00   \n",
       "262  PAPUA PEGUNUNGAN 2021-01-01             0.00                   0.00   \n",
       "263  PAPUA PEGUNUNGAN 2022-01-01             0.00                   0.00   \n",
       "264  PAPUA PEGUNUNGAN 2023-01-01            14.14                  43.59   \n",
       "265  PAPUA PEGUNUNGAN 2024-01-01             9.66                  43.87   \n",
       "\n",
       "     Produksi (ton)  \n",
       "0        1861567.10  \n",
       "1        1714437.60  \n",
       "2        1757313.07  \n",
       "3        1634639.60  \n",
       "4        1509456.00  \n",
       "..              ...  \n",
       "261            0.00  \n",
       "262            0.00  \n",
       "263            0.00  \n",
       "264           61.63  \n",
       "265           42.38  \n",
       "\n",
       "[266 rows x 5 columns]"
      ]
     },
     "execution_count": 11,
     "metadata": {},
     "output_type": "execute_result"
    }
   ],
   "source": [
    "df_skip = pd.read_excel(\"Luas_Panen_Produksi_dan_Produktivitas_Padi_Menurut_Provinsi_Cleaned.xlsx\", skipfooter=7)\n",
    "df_skip"
   ]
  },
  {
   "cell_type": "code",
   "execution_count": null,
   "id": "1a6d5c97",
   "metadata": {},
   "outputs": [
    {
     "name": "stderr",
     "output_type": "stream",
     "text": [
      "C:\\Users\\eldim\\AppData\\Local\\Temp\\ipykernel_6744\\1831631922.py:7: FutureWarning: \n",
      "\n",
      "Passing `palette` without assigning `hue` is deprecated and will be removed in v0.14.0. Assign the `y` variable to `hue` and set `legend=False` for the same effect.\n",
      "\n",
      "  sns.barplot(y=df_grouped[\"Provinsi\"], x=df_grouped[\"Produksi (ton)\"], palette=\"coolwarm\")\n"
     ]
    },
    {
     "data": {
      "image/png": "[encoded data removed]",
      "text/plain": [
       "<Figure size 1200x600 with 1 Axes>"
      ]
     },
     "metadata": {},
     "output_type": "display_data"
    }
   ],
   "source": [
    "# Membuat Group\n",
    "df_grouped = df_skip.groupby(\"Provinsi\")[\"Produksi (ton)\"].sum().reset_index()\n",
    "df_grouped = df_grouped.sort_values(by=\"Produksi (ton)\", ascending=False).head(5)\n",
    "\n",
    "# Menampilkan Bar Chart\n",
    "plt.figure(figsize=(12,6))\n",
    "sns.barplot(y=df_grouped[\"Provinsi\"], x=df_grouped[\"Produksi (ton)\"], palette=\"coolwarm\")\n",
    "plt.title(\"Total Produksi Padi 2018-2024 (Top 5)\")\n",
    "plt.xlabel(\"Produksi Padi (ton)\")\n",
    "plt.ylabel(\"Provinsi\")\n",
    "plt.show()"
   ]
  },
  {
   "cell_type": "code",
   "execution_count": null,
   "id": "5c4b8d27",
   "metadata": {},
   "outputs": [
    {
     "data": {
      "image/png": "[encoded data removed]",
      "text/plain": [
       "<Figure size 1200x600 with 1 Axes>"
      ]
     },
     "metadata": {},
     "output_type": "display_data"
    }
   ],
   "source": [
    "# Membuat Group\n",
    "yearly = df_skip.groupby(\"Tahun\")[\"Produksi (ton)\"].sum()\n",
    "\n",
    "# Membuat Plot\n",
    "plt.figure(figsize=(12,6))\n",
    "sns.lineplot(x=yearly.index, y=yearly.values)\n",
    "plt.axhline(y=yearly.mean(), color=\"r\", linestyle=\"--\", label=\"Rata-rata\")\n",
    "plt.title(\"Tren Produksi Padi Tahun 2018 - 2024\")\n",
    "plt.xlabel(\"Tahun\")\n",
    "plt.ylabel(\"Total Produksi\")\n",
    "plt.legend()\n",
    "plt.show()"
   ]
  },
  {
   "cell_type": "code",
   "execution_count": null,
   "id": "45720390",
   "metadata": {},
   "outputs": [
    {
     "data": {
      "image/png": "[encoded data removed]",
      "text/plain": [
       "<Figure size 1200x600 with 1 Axes>"
      ]
     },
     "metadata": {},
     "output_type": "display_data"
    }
   ],
   "source": [
    "# Membuat Group\n",
    "yearly = df_skip.groupby(\"Tahun\")[\"Luas Panen (ha)\"].sum()\n",
    "\n",
    "# Membuat Plot\n",
    "plt.figure(figsize=(12,6))\n",
    "sns.lineplot(x=yearly.index, y=yearly.values)\n",
    "plt.axhline(y=yearly.mean(), color=\"r\", linestyle=\"--\", label=\"Rata-rata\")\n",
    "plt.title(\"Tren Luas Panen Tahun 2018 - 2024\")\n",
    "plt.xlabel(\"Tahun\")\n",
    "plt.ylabel(\"Luas Panen\")\n",
    "plt.legend()\n",
    "plt.show()"
   ]
  },
  {
   "cell_type": "code",
   "execution_count": 17,
   "id": "7d55ad65",
   "metadata": {},
   "outputs": [
    {
     "data": {
      "image/png": "[encoded data removed]",
      "text/plain": [
       "<Figure size 1200x600 with 1 Axes>"
      ]
     },
     "metadata": {},
     "output_type": "display_data"
    }
   ],
   "source": [
    "# Membuat Group date dan sum sales\n",
    "yearly = df_skip.groupby(\"Tahun\")[\"Produktivitas (ku/ha)\"].sum()\n",
    "\n",
    "# Membuat Plot\n",
    "plt.figure(figsize=(12,6))\n",
    "sns.lineplot(x=yearly.index, y=yearly.values)\n",
    "plt.axhline(y=yearly.mean(), color=\"r\", linestyle=\"--\", label=\"Rata-rata\")\n",
    "plt.title(\"Tren Produktifitas Lahan Padi Tahun 2018 - 2024\")\n",
    "plt.xlabel(\"Tahun\")\n",
    "plt.ylabel(\"Total Produktifitas\")\n",
    "plt.legend()\n",
    "plt.show()"
   ]
  },
  {
   "cell_type": "markdown",
   "id": "8331db85",
   "metadata": {},
   "source": [
    "### Tren penurunan produksi padi\n",
    "\n",
    "Dari grafik diatas, ditemukan bahwa produksi padi di Indonesia dalam 7 tahun terakhir mengalami penurunan. Penurunan produksi padi dapat menyebabkan kenaikan harga beras.\n",
    "Penurunan produksi padi dapat diduga karena adanya penurunan dari luas area panen.\n",
    "Salah satu penyebab berkurangnya Luas Area Panen adalah dikarenakan adanya alih fungsi lahan pertanian. Alih fungsi lahan pertanian menyebabkan berkurangnya lahan pertanian yang juga menyebabkan adanya penurunan unit usaha pertanian. Dikutip dari Tempo.co \"Pada 2023, jumlah usaha pertanian di Indonesia mencapai 29,3 juta unit usaha. Jumlah itu turun sebesar 7,42 persen dibandingkan data 2013 yang berjumlah 31,7 juta unit.\""
   ]
  }
 ],
 "metadata": {
  "kernelspec": {
   "display_name": "base",
   "language": "python",
   "name": "python3"
  },
  "language_info": {
   "codemirror_mode": {
    "name": "ipython",
    "version": 3
   },
   "file_extension": ".py",
   "mimetype": "text/x-python",
   "name": "python",
   "nbconvert_exporter": "python",
   "pygments_lexer": "ipython3",
   "version": "3.12.7"
  }
 },
 "nbformat": 4,
 "nbformat_minor": 5
}
